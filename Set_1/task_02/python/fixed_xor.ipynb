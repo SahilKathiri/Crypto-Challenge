{
 "cells": [
  {
   "cell_type": "code",
   "execution_count": 1,
   "metadata": {
    "collapsed": true
   },
   "outputs": [],
   "source": [
    "from binascii import hexlify"
   ]
  },
  {
   "cell_type": "code",
   "execution_count": 2,
   "metadata": {
    "collapsed": true
   },
   "outputs": [],
   "source": [
    "op_a = \"1c0111001f010100061a024b53535009181c\"\n",
    "op_b = \"686974207468652062756c6c277320657965\""
   ]
  },
  {
   "cell_type": "code",
   "execution_count": 3,
   "metadata": {},
   "outputs": [],
   "source": [
    "if len(op_a) != len(op_b):\n",
    "    raise ValueError(\"Both operands need to have the same length\")\n",
    "\n",
    "result = b''\n",
    "\n",
    "for a, b in zip(bytes.fromhex(op_a), bytes.fromhex(op_b)):\n",
    "    result += bytes([a ^ b])\n",
    "\n",
    "result_str = str(hexlify(result), encoding='utf-8')"
   ]
  },
  {
   "cell_type": "code",
   "execution_count": 4,
   "metadata": {},
   "outputs": [
    {
     "name": "stdout",
     "output_type": "stream",
     "text": [
      "\n",
      "S01T02: Fixed XOR\n",
      "\n",
      "First Operand : 1c0111001f010100061a024b53535009181c\n",
      "Second Operand: 686974207468652062756c6c277320657965\n",
      "Result        : 746865206b696420646f6e277420706c6179\n",
      "\n"
     ]
    }
   ],
   "source": [
    "print(\"\"\"\n",
    "S01T02: Fixed XOR\n",
    "\n",
    "First Operand : {}\n",
    "Second Operand: {}\n",
    "Result        : {}\n",
    "\"\"\".format(op_a, op_b, result_str))"
   ]
  }
 ],
 "metadata": {
  "kernelspec": {
   "display_name": "Python 3",
   "language": "python",
   "name": "python3"
  },
  "language_info": {
   "codemirror_mode": {
    "name": "ipython",
    "version": 3
   },
   "file_extension": ".py",
   "mimetype": "text/x-python",
   "name": "python",
   "nbconvert_exporter": "python",
   "pygments_lexer": "ipython3",
   "version": "3.5.2"
  }
 },
 "nbformat": 4,
 "nbformat_minor": 2
}
